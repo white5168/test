{
 "cells": [
  {
   "cell_type": "code",
   "execution_count": 1,
   "metadata": {
    "slideshow": {
     "slide_type": "slide"
    }
   },
   "outputs": [
    {
     "data": {
      "text/plain": [
       "['ConnectTimeout',\n",
       " 'ConnectionError',\n",
       " 'DependencyWarning',\n",
       " 'FileModeWarning',\n",
       " 'HTTPError',\n",
       " 'NullHandler',\n",
       " 'PreparedRequest',\n",
       " 'ReadTimeout',\n",
       " 'Request',\n",
       " 'RequestException',\n",
       " 'RequestsDependencyWarning',\n",
       " 'Response',\n",
       " 'Session',\n",
       " 'Timeout',\n",
       " 'TooManyRedirects',\n",
       " 'URLRequired',\n",
       " '__author__',\n",
       " '__author_email__',\n",
       " '__build__',\n",
       " '__builtins__',\n",
       " '__cake__',\n",
       " '__copyright__',\n",
       " '__description__',\n",
       " '__doc__',\n",
       " '__file__',\n",
       " '__license__',\n",
       " '__name__',\n",
       " '__package__',\n",
       " '__path__',\n",
       " '__title__',\n",
       " '__url__',\n",
       " '__version__',\n",
       " '_internal_utils',\n",
       " 'adapters',\n",
       " 'api',\n",
       " 'auth',\n",
       " 'certs',\n",
       " 'chardet',\n",
       " 'check_compatibility',\n",
       " 'codes',\n",
       " 'compat',\n",
       " 'cookies',\n",
       " 'delete',\n",
       " 'exceptions',\n",
       " 'get',\n",
       " 'head',\n",
       " 'hooks',\n",
       " 'logging',\n",
       " 'models',\n",
       " 'options',\n",
       " 'packages',\n",
       " 'patch',\n",
       " 'post',\n",
       " 'put',\n",
       " 'pyopenssl',\n",
       " 'request',\n",
       " 'session',\n",
       " 'sessions',\n",
       " 'status_codes',\n",
       " 'structures',\n",
       " 'urllib3',\n",
       " 'utils',\n",
       " 'warnings']"
      ]
     },
     "execution_count": 1,
     "metadata": {},
     "output_type": "execute_result"
    }
   ],
   "source": [
    "import requests\n",
    "\n",
    "dir(requests)"
   ]
  },
  {
   "cell_type": "code",
   "execution_count": 2,
   "metadata": {
    "slideshow": {
     "slide_type": "slide"
    }
   },
   "outputs": [
    {
     "name": "stdout",
     "output_type": "stream",
     "text": [
      "Help on package requests:\n",
      "\n",
      "NAME\n",
      "    requests\n",
      "\n",
      "FILE\n",
      "    c:\\programdata\\anaconda2\\lib\\site-packages\\requests\\__init__.py\n",
      "\n",
      "DESCRIPTION\n",
      "    Requests HTTP Library\n",
      "    ~~~~~~~~~~~~~~~~~~~~~\n",
      "    \n",
      "    Requests is an HTTP library, written in Python, for human beings. Basic GET\n",
      "    usage:\n",
      "    \n",
      "       >>> import requests\n",
      "       >>> r = requests.get('https://www.python.org')\n",
      "       >>> r.status_code\n",
      "       200\n",
      "       >>> 'Python is a programming language' in r.content\n",
      "       True\n",
      "    \n",
      "    ... or POST:\n",
      "    \n",
      "       >>> payload = dict(key1='value1', key2='value2')\n",
      "       >>> r = requests.post('http://httpbin.org/post', data=payload)\n",
      "       >>> print(r.text)\n",
      "       {\n",
      "         ...\n",
      "         \"form\": {\n",
      "           \"key2\": \"value2\",\n",
      "           \"key1\": \"value1\"\n",
      "         },\n",
      "         ...\n",
      "       }\n",
      "    \n",
      "    The other HTTP methods are supported - see `requests.api`. Full documentation\n",
      "    is at <http://python-requests.org>.\n",
      "    \n",
      "    :copyright: (c) 2017 by Kenneth Reitz.\n",
      "    :license: Apache 2.0, see LICENSE for more details.\n",
      "\n",
      "PACKAGE CONTENTS\n",
      "    __version__\n",
      "    _internal_utils\n",
      "    adapters\n",
      "    api\n",
      "    auth\n",
      "    certs\n",
      "    compat\n",
      "    cookies\n",
      "    exceptions\n",
      "    help\n",
      "    hooks\n",
      "    models\n",
      "    packages\n",
      "    sessions\n",
      "    status_codes\n",
      "    structures\n",
      "    utils\n",
      "\n",
      "FUNCTIONS\n",
      "    check_compatibility(urllib3_version, chardet_version)\n",
      "\n",
      "DATA\n",
      "    __author__ = 'Kenneth Reitz'\n",
      "    __author_email__ = 'me@kennethreitz.org'\n",
      "    __build__ = 137220\n",
      "    __cake__ = u'\\u2728 \\U0001f370 \\u2728'\n",
      "    __copyright__ = 'Copyright 2017 Kenneth Reitz'\n",
      "    __description__ = 'Python HTTP for Humans.'\n",
      "    __license__ = 'Apache 2.0'\n",
      "    __title__ = 'requests'\n",
      "    __url__ = 'http://python-requests.org'\n",
      "    __version__ = '2.18.4'\n",
      "    codes = <lookup 'status_codes'>\n",
      "\n",
      "VERSION\n",
      "    2.18.4\n",
      "\n",
      "AUTHOR\n",
      "    Kenneth Reitz\n",
      "\n",
      "\n"
     ]
    }
   ],
   "source": [
    "help(requests)"
   ]
  },
  {
   "cell_type": "code",
   "execution_count": 3,
   "metadata": {
    "collapsed": true,
    "slideshow": {
     "slide_type": "slide"
    }
   },
   "outputs": [],
   "source": [
    "?requests"
   ]
  },
  {
   "cell_type": "code",
   "execution_count": 4,
   "metadata": {
    "slideshow": {
     "slide_type": "slide"
    }
   },
   "outputs": [
    {
     "data": {
      "text/plain": [
       "200"
      ]
     },
     "execution_count": 4,
     "metadata": {},
     "output_type": "execute_result"
    }
   ],
   "source": [
    "import requests\n",
    "\n",
    "res = requests.get(\"https://tw.stock.yahoo.com/q/q?s=2330\")\n",
    "res.status_code"
   ]
  },
  {
   "cell_type": "code",
   "execution_count": 5,
   "metadata": {
    "slideshow": {
     "slide_type": "slide"
    }
   },
   "outputs": [
    {
     "data": {
      "text/plain": [
       "u'<!doctype html public \"-//w3c//dtd html 4.01//en\" \"http://www.w3.org/tr/html4/strict.dtd\">\\n<html>\\n<head>\\n<meta http-equiv=\"Content-Type\" content=\"text/html; charset=big5\"> \\n<meta name=\"application-name\" content=\"Yahoo!\\u5947\\u6469\\u80a1\\u5e02\"/>\\n<meta name=\"msapplication-TileColor\" content=\"#7b0099\"/> \\n<meta name=\"msapplication-TileImage\" content=\"https://s.yimg.com/f/i/tw/stock/tw_stock_icon_pin.png\"/>\\n<title>Yahoo!\\u5947\\u6469\\u80a1\\u5e02</title>\\n<link rel=\"stylesheet\" type=\"text/css\" href=\"https://s.yimg.com/f/i/tw/hp/masthead/yhtw_masthead_standard.css\" media=\"screen, print\" />\\n<link rel=\"stylesheet\" type=\"text/css\" href=\"https://s.yimg.com/f/i/tw/hp/masthead/yhtw_masthead_12.css\" media=\"screen, print\" />\\n<link rel=\"stylesheet\" type=\"text/css\" href=\"https://s.yimg.com/f/i/tw/stock/revampe/css_1960_min.css\" media=\"screen, print\" />\\n<link rel=\"stylesheet\" type=\"text/css\" href=\"https://s.yimg.com/f/i/tw/stock/img06/stock_wd.css\" media=\"screen, print\" />\\n<link rel=\"stylesheet\" type=\"text/css\" href=\"https://s.yimg.com/f/i/tw/stock/stock_print_1_2.css\" media=\"print\" />\\n<link href=\"https://s.yimg.com/f/i/tw/hp/Universal_header/uh_bt3.css\" type=\"text/css\" rel=\"stylesheet\"/>\\n<link href=\"https://s.yimg.com/f/i/tw/stock/revampe/ystock_uh_1_1_min.css\" type=\"text/css\" rel=\"stylesheet\"/> \\n<link href=\"https://s.yimg.com/ud/others/stock/gemini-v1.css\" type=\"text/css\" rel=\"stylesheet\"/>\\n<script type=\"text/JavaScript\">\\n<!--\\nfunction MM_swapImgRestore() { //v3.0\\n var i,x,a=document.MM_sr; for(i=0;a&&i<a.length&&(x=a[i])&&x.oSrc;i++) x.src=x.oSrc;\\n}\\nfunction MM_preloadImages() { //v3.0\\n var d=document; if(d.images){ if(!d.MM_p) d.MM_p=new Array();\\n var i,j=d.MM_p.length,a=MM_preloadImages.arguments; for(i=0; i<a.length; i++)\\n if (a[i].indexOf(\"#\")!=0){ d.MM_p[j]=new Image; d.MM_p[j++].src=a[i];}}\\n}\\nfunction MM_findObj(n, d) { //v4.01\\n var p,i,x; if(!d) d=document; if((p=n.indexOf(\"?\"))>0&&parent.frames.length) {\\n d=parent.frames[n.substring(p+1)].document; n=n.substring(0,p);}\\n if(!(x=d[n])&&d.all) x=d.all[n]; for (i=0;!x&&i<d.forms.length;i++) x=d.forms[i][n];\\n for(i=0;!x&&d.layers&&i<d.layers.length;i++) x=MM_findObj(n,d.layers[i].document);\\n if(!x && d.getElementById) x=d.getElementById(n); return x;\\n}\\nfunction MM_swapImage() { //v3.0\\n var i,j=0,x,a=MM_swapImage.arguments; document.MM_sr=new Array; for(i=0;i<(a.length-2);i+=3)\\n if ((x=MM_findObj(a[i]))!=null){document.MM_sr[j++]=x; if(!x.oSrc) x.oSrc=x.src; x.src=a[i+2];}\\n}\\n//-->\\n</script>\\n<style type=\"text/css\">\\n<!--\\n.style1 {\\n color: #000000;\\n font-family: \"\\u65b0\\u7d30\\u660e\\u9ad4\";\\n}\\n.style2 {color: #4f5d70}\\n.style4 {color: #009900}\\n.style5 {color: #FF0000}\\n.style8 {font-size: 10pt;}\\n.style9 {color: #000000; }\\n.style12 {line-height: 25pt; font-family: \"\\u65b0\\u7d30\\u660e\\u9ad4\", mingliu, taipei;}\\n.style13 {color: #4f5d70}\\n-->\\n</style>\\n<script language=\"JavaScript\" src=\"https://s.yimg.com/f/i/tw/hp/wd/wd_20050720.js\"></script>\\n<!--\\n<script language=\"JavaScript\" src=\"https://s.yimg.com/lq/lib/common/utils/2/yahoo_2.0.0-b2.js\" ></script>\\n<script language=\"JavaScript\" src=\"https://s.yimg.com/lq/lib/common/utils/2/dom_2.0.0-b2.js\" ></script>\\n<script language=\"JavaScript\" src=\"https://s.yimg.com/lq/lib/common/utils/2/event_2.0.0-b2.js\" ></script>\\n<script language=\"JavaScript\" src=\"https://s.yimg.com/lq/lib/common/utils/2/dragdrop_2.0.0-b2.js\" ></script>\\n-->\\n<script language=\"JavaScript\" src=\"https://s.yimg.com/f/i/tw/hp/wd/wd_20050720.js\"></script>\\n<script language=\"JavaScript\" src=\"https://s.yimg.com/f/i/tw/stock/yui2/yahoo_200_b2.js\" ></script>\\n<script language=\"JavaScript\" src=\"https://s.yimg.com/f/i/tw/stock/yui2/dom_200_b2.js\" ></script>\\n<script language=\"JavaScript\" src=\"https://s.yimg.com/f/i/tw/stock/yui2/event_200_b2.js\" ></script>\\n<script language=\"JavaScript\" src=\"https://s.yimg.com/f/i/tw/stock/yui2/dragdrop_200_b2.js\" ></script>\\n<script language=\"JavaScript\" src=\"https://s.yimg.com/f/i/tw/stock/img06/stk_wd.js\"></script>\\n<script language=\"javascript\" src=\"https://s.yimg.com/f/i/tw/stock/img06/stock22.js\"></script>\\n<script language=\"javascript\" src=\"https://s.yimg.com/f/i/tw/stock/img06/auth.js\"></script>\\n<script language=\"javascript\" src=\"https://s.yimg.com/f/i/tw/mc/mc.js\"></script>\\n<script language=\"javascript\" src=\"https://s.yimg.com/f/i/tw/stock/img06/quotelist.js\"></script>\\n<script language=\"javascript\" src=\"https://s.yimg.com/f/i/tw/stock/img06/tsc22_r1826.js\"></script>\\n<script type=\"text/javascript\" src=\"https://s.yimg.com/lh/mbz/loader-min.js\"></script>\\n<script type=\"text/javascript\" src=\"https://sec.yimg.com/us.js.yimg.com/lib/common/utils/2/connection_2.1.0.js\" ></script>\\n<script type=\\'text/javascript\\'>\\n !window.YUI && document.write(\"<script type=\\\\\"text/javascript\\\\\" src=\\\\\"https://yui-s.yahooapis.com/combo?3.5.1/yui/yui-min.js\\\\\">\"+\"</scr\"+\"ipt>\");\\n</script></head> <body vlink=#3948CC style=\"margin-top:0px\">\\n<center>\\n<!--BEGIN:Universal Master Header-->\\n <div id=\"ygma\" class=\"fix750\" style=\"margin: 0 auto;border:none;\">\\n <link type=\\'text/css\\' rel=\\'stylesheet\\' href=\\'https://s.yimg.com/zz/combo?kx/yucs/uh2/uh/295/css/yunivhead-min.css&kx/yucs/uh2/uh/295/css/logo-min.css&kx/ucs/avatar/css/17/avatar-min.css&kx/yucs/uh2/mail-link/85/css/mailcount_v2-min.css&kx/yucs/uh2/mail-link/85/css/mail_preview-min.css&kx/ucs/search/css/190/search_all-min.css&kx/ucs/search/css/190/search_buttons-min.css&kx/yucs/uh2/uh/295/css/yunivhead_https-min.css&kx/yucs/uh_common/meta/3/css/meta-min.css\\' /><div id=\"yUnivHead\" class=\"yucs-zh-hant-tw\" data-lang=\"zh-hant-tw\" data-property=\"finance\" data-flight=\"1508219560\" data-uhvc=\"/\"> <div id=\"yucs-disclaimer\" class=\"yucs-disclaimer yucs-activate yucs-hide yucs-property-finance yucs-fcb- \" data-cobrand=\"standard\" data-cu = \"0\" data-dsstext=\"\\u60f3\\u8981\\u4eab\\u53d7\\u66f4\\u597d\\u7684\\u641c\\u5c0b\\u9ad4\\u9a57\\u55ce\\uff1f {dssLink}\\u5c07\\u60a8\\u7684\\u641c\\u5c0b\\u8a2d\\u70ba Yahoo\\u5947\\u6469{linkEnd}\" data-dsstext-mobile=\"\\u66f4\\u5c11\\u7684\\u641c\\u5c0b\\u52d5\\u4f5c\\uff0c\\u66f4\\u591a\\u7684\\u641c\\u5c0b\\u7d50\\u679c\" data-dsstext-mobile-ok=\"\\u78ba\\u5b9a\" data-dsstext-mobile-set-search=\"\\u5c07\\u60a8\\u7684\\u641c\\u5c0b\\u8a2d\\u5b9a\\u70ba Yahoo\\u3002\" data-dssstbtext=\"Yahoo is the preferred search engine for Firefox. Switch now.\" data-dssstb-ok=\"Yes\" data-dssstb-no=\"Not Now\" data-ylt-link=\"https://tw.search.yahoo.com/searchset?pn=\" data-ylt-dssbarclose=\"/\" data-ylt-dssbaropen=\"/\" data-ylt-dssstb-link=\"https://downloads.yahoo.com/sp-firefox\" data-ylt-dssstbbarclose=\"/\" data-ylt-dssstbbaropen=\"/\" data-ylt-dssCookieCleanedSuccess=\"/\" data-ylt-dssCookieCleanedFailed=\"/\" data-linktarget=\"_top\" data-lang=\"zh-hant-tw\" data-property=\"finance\" data-device=\"Desktop\" data-close-txt=\"\\u95dc\\u9589\\u6b64\\u8996\\u7a97\" data-maybelater-txt = \"\\u7a0d\\u5f8c\\u518d\\u8aaa\" data-killswitch = \"0\" data-host=\"tw.stock.yahoo.com\" data-spaceid=\"152960936\" data-pn=\"\" data-dss-cookie-cleanup=\"\" data-pn-en-ca-mobile-frontpage=\"\" data-pn-de-de-mobile-frontpage=\"\" data-pn-es-es-mobile-frontpage=\"\" data-pn-fr-fr-mobile-frontpage=\"\" data-pn-en-in-mobile-frontpage=\"\" data-pn-it-it-mobile-frontpage=\"\" data-pn-en-us-mobile-frontpage=\"\" data-pn-en-sg-mobile-frontpage=\"\" data-pn-en-gb-mobile-frontpage=\"\" data-pn-en-us-mobile-mail=\"\" data-pn-en-ca-mobile-mail=\"\" data-pn-de-de-mobile-mail=\"\" data-pn-es-es-mobile-mail=\"\" data-pn-fr-fr-mobile-mail=\"\" data-pn-en-in-mobile-mail=\"\" data-pn-it-it-mobile-mail=\"\" data-pn-en-sg-mobile-mail=\"\" data-pn-en-gb-mobile-mail=\"\" data-pn-pt-br-mobile-mail=\"\" data-pn-en-us-tablet-frontpage=\"\" data-pn-en-us-tablet-mail=\"\" data-pn-en-ca-tablet-mail=\"\" data-pn-de-de-tablet-mail=\"\" data-pn-es-es-tablet-mail=\"\" data-pn-fr-fr-tablet-mail=\"\" data-pn-en-in-tablet-mail=\"\" data-pn-it-it-tablet-mail=\"\" data-pn-en-sg-tablet-mail=\"\" data-pn-en-gb-tablet-mail=\"\" data-pn-pt-br-tablet-mail=\"\" data-news-search-yahoo-com=\"\" data-answers-search-yahoo-com=\"\" data-finance-search-yahoo-com=\"\" data-images-search-yahoo-com=\"\" data-video-search-yahoo-com=\"\" data-sports-search-yahoo-com=\"\" data-shopping-search-yahoo-com=\"\" data-shopping-yahoo-com=\"\" data-us-qa-trunk-news-search-yahoo-com =\"\" data-dss=\"\"></div>    <a href=\"#yuhead-search\" class=\"yucs-skipto-search yucs-activate\">\\u8df3\\u81f3\\u641c\\u5c0b\\u6b04\\u3002</a>  <div id=\"yuhead-hd\" class=\"yuhead-clearfix\"> <div id=\"yuhead-mepanel-cont\"> <ul id=\"yuhead-mepanel\" class=\"yucs-toolbar yucs-activate\" aria-label=\"\\u7528\\u6236\\u670d\\u52d9\"><li class=\"yuhead-me yuhead-nodivide yuhead-nopad\"> <a class=\"yuhead-signup\" href=\"https://edit.yahoo.com/config/eval_register?.src=quote&.intl=tw&.lang=zh-Hant-TW&.done=https://tw.stock.yahoo.com/q/q%3fs=2330\" target=\"_top\" rel=\"nofollow\"> <em>\\u662f\\u65b0\\u7528\\u6236\\u55ce\\uff1f</em> \\u8acb\\u8a3b\\u518a</a></li><li class=\"yuhead-me\"> <a href=\"https://login.yahoo.com/config/login?.src=quote&.intl=tw&.lang=zh-Hant-TW&.done=https://tw.stock.yahoo.com/q/q%3fs=2330\" target=\"_top\" rel=\"nofollow\"> <em>\\u767b\\u5165</em></a></li><li class=\"yuhead-me\"><a href=\"http://tw.help.cc.yahoo.com/?product=stock\" rel=\"nofollow\" target=\"_top\">\\u670d\\u52d9\\u8aaa\\u660e</a></li></ul>   </div> <div id=\"yuhead-promo\"><a style=\"font-weight:bold;\"href=\"http://tw.overview.mail.yahoo.com/\" target=\"_top\" rel=\"nofollow\">Download the new Yahoo Mail app</a></div> <div id=\"yuhead-com-links-cont\"> <ul id=\"yuhead-com-links\" class=\"yucs-toolbar yucs-activate\" aria-label=\"Yahoo \\u5947\\u6469\\u670d\\u52d9\\u7e3d\\u89bd\">  <li class=\"yuhead-com-link-item yucs-mailpreview-ancestor\"> <a class=\"sp yltasis yuhead-ico-mail\" href=\"https://tw.mail.yahoo.com/?.intl=tw&.lang=zh-Hant-TW\" rel=\"nofollow\" target=\"_top\">\\u4fe1\\u7bb1</a><ul class=\"yucs-mail-preview-panel hide\" data-uri-scheme=\"http\" data-uri-path=\"ucs.query.yahoo.com/v1/console/yql\" data-mail-txt=\"\\u4fe1\\u7bb1\" data-mail-view=\"\\u6aa2\\u8996\\u6240\\u6709 Yahoo \\u4fe1\\u4ef6\" data-mail-help-txt=\"\\u670d\\u52d9\\u8aaa\\u660e\" data-mail-help-url=\"http://help.cc.tw.yahoo.com/help_cp.html?product=29\" data-mail-loading-txt=\"\\u8f09\\u5165\\u4e2d...\" data-languagetag=\"zh-hant-tw\" data-mrd-crumb=\"\" data-authstate=\"signedout\" data-middleauth-signin-text=\"\\u9ede\\u9078\\u9019\\u88e1\\u6aa2\\u8996\\u60a8\\u7684\\u4fe1\\u4ef6\" data-popup-login-url=\"https://login.yahoo.com/config/login_verify2?.pd=c%3DOIVaOGq62e5hAP8Tv..nr5E3&.src=sc\" data-middleauthtext=\"\\u4f60\\u6709 {count} \\u5c01\\u65b0\\u4fe1\\u3002\" data-yltmessage-link=\"http://mrd.mail.yahoo.com/msg?mid={msgID}&fid=Inbox&src=uh&.crumb=\" data-yltviewall-link=\"https://tw.mail.yahoo.com/\" data-yltpanelshown=\"/\"></ul></li><li class=\"yuhead-com-link-item\"> <a href=\"http://tw.bid.yahoo.com/\" rel=\"nofollow\" target=\"_top\"> \\u62cd\\u8ce3 </a></li><li id=\"yuhead-com-home\"><a class=\"sp yuhead-ico-home\" href=\"https://tw.yahoo.com/\" rel=\"nofollow\" target=\"_top\">Yahoo \\u5947\\u6469</a></li> </ul> </div> </div> <div id=\"yuhead-bd\" class=\"yuhead-clearfix\"> <div class=\"yuhead-logo\"> <style> .yuhead-logo h2{ width:350px; height:58px; background-image:url(https://s.yimg.com/rz/d/yahoo_finance_zh-Hant-TW_s_f_pw_351x40_stock.png\\n); _background-image:url(https://s.yimg.com/rz/d/yahoo_finance_zh-Hant-TW_s_f_pw_351x40_stock.gif\\n); } .yuhead-logo a{ width:350px; height:58px; } .yuhead-logo div.yuhead-comarketing { width:350px; } .yog-tablet #yUnivHead h2 { background-position: -350px 5px !important; } html[lang=\\'en-AU\\'] .yog-tablet #yUnivHead .yuhead-logo h2 { background-position: -350px 5px !important; } html[lang=\\'en-NZ\\'] .yog-tablet #yUnivHead .yuhead-logo h2 { background-position: -350px 5px !important; } .yog-smartphone #yUnivHead h2 { background-position: -265px 0; background-size: 534px; margin-left: 26%; } .yog-tablet .yuhead-logo h2{ background-repeat: repeat-x; } .yog-tablet.yog-version-v2 #yUnivHead h2 { background-position: center !important; } .yog-tablet #yUnivHead .yuhead-logo h2 { height: 40px !important; } .yog-rtl.yog-smartphone #yUnivHead .yuhead-logo h2 { background-position: -352px 0; !important; background-size: 536px !important; margin-left: 30% !important; } html[lang=\\'ar\\'] .yog-rtl.yog-smartphone #yUnivHead .yuhead-logo h2 { background-position: -386px 0; !important; } .yog-smartphone #yUnivHead h2.yuhead-music { background-position: 0 0 !important; width: 260px !important; } html[lang=\\'en-US\\'] .yog-smartphone #yUnivHead h2 { background-size: auto 21px !important; background-position: -350px 0; } html[lang=\\'pt-BR\\'] .yog-smartphone #yUnivHead h2.yuhead-sports { background-position: -265px 0 !important; background-size: 534px; margin-left: 17%; } html[lang=\\'ar\\'] .yog-smartphone #yUnivHead h2.yuhead-omg { background-position: -383px 0 !important; background-size: 605px; margin-left: 0; width: auto; } html[lang=\\'en-PH\\'] .yog-tablet #yUnivHead .yuhead-logo h2 { height: 47px !important; } html[lang=\\'en-PH\\'] .yog-smartphone #yUnivHead h2 { width: 255px; } </style> <h2 class=\"yuhead-finance yuhead-standard\"> <a href=\"https://tw.finance.yahoo.com/\" target=\"_top\" tabindex=\"-1\"> Yahoo \\u80a1\\u5e02 </a> </h2> <div id=\"yucs-disclaimer-md\" class=\"yucs-disclaimer-md yucs-activate yucs-hide Desktop  yucs-property-finance yucs-fcb-\" data-dsstext=\"\\u60f3\\u8981\\u4eab\\u53d7\\u66f4\\u597d\\u7684\\u641c\\u5c0b\\u9ad4\\u9a57\\u55ce\\uff1f {dssLink}\\u5c07\\u60a8\\u7684\\u641c\\u5c0b\\u8a2d\\u70ba Yahoo\\u5947\\u6469{linkEnd}\" data-dsstext-mobile=\"\\u66f4\\u5c11\\u7684\\u641c\\u5c0b\\u52d5\\u4f5c\\uff0c\\u66f4\\u591a\\u7684\\u641c\\u5c0b\\u7d50\\u679c\" data-dsstext-mobile-ok=\"\\u78ba\\u5b9a\" data-dsstext-mobile-set-search=\"\\u5c07\\u60a8\\u7684\\u641c\\u5c0b\\u8a2d\\u5b9a\\u70ba Yahoo\\u3002\" data-ylt-link=\"https://tw.search.yahoo.com/searchset?pn=\" data-ylt-dssbarclose=\"/\" data-ylt-dssbaropen=\"/\" data-linktarget=\"_top\" data-lang=\"zh-hant-tw\" data-property=\"finance\" data-device=\"Desktop\" data-close-txt=\"\\u95dc\\u9589\\u6b64\\u8996\\u7a97\" data-maybelater-txt = \"\\u7a0d\\u5f8c\\u518d\\u8aaa\" data-killswitch = \"0\" data-dss=\"\"></div><script typ=\"text/javascript\" src=\"https://s.yimg.com/kx/yucs/uh3/disclaimer/274/js/disclaimer_seed-min.js\"></script> </div> <div id=\"yuhead-search\"> <div id=\"yuhead-sform-cont\" class=\"yuhead-s-web yuhead-search-form\"> <form role=\"search\" class=\"yucs-search yucs-activate\" target=\"_top\" action=\"https://tw.search.yahoo.com/search\" method=\"get\"><table role=\"presentation\"> <tbody role=\"presentation\"><tr role=\"presentation\"><td class=\"yucs-form-input\" role=\"presentation\"> <label for=\"yuhead-sform-searchfield\"> <span>\\u641c\\u5c0b</span> </label> <input autocomplete=\"off\" type=\"text\" class=\"sp yuhead-ico-mglass yuhead-search-hint yucs-search-field\" name=\"p\" data-sh=\"\\u641c\\u5c0b\"  data-gosurl=\"\" id=\"yuhead-sform-searchfield\" data-pubid=\"\" /></td><td NOWRAP class=\"yucs-form-btn\" role=\"presentation\"><div class=\"yucs-btn-wrap\"> <button class=\"yucs-sweb-btn\" type=\"submit\">\\u7db2\\u9801\\u641c\\u5c0b</button></div> </td> </tr> </tbody></table><input type=\"hidden\" id=\"fr\" name=\"fr\" value=\"ush1-finance\" /></form> </div> </div>  </div>               <!-- meta --><div id=\"yucs-meta\" data-authstate=\"signedout\" data-cobrand=\"standard\" data-crumb=\"\" data-mc-crumb=\"\" data-gta=\"\" data-device=\"desktop\" data-experience=\"\" data-firstname=\"\" data-style=\"\" data-flight=\"1508219560\" data-forcecobrand=\"standard\" data-guid=\"\" data-host=\"tw.stock.yahoo.com\" data-https=\"1\" data-languagetag=\"zh-hant-tw\" data-property=\"finance\" data-protocol=\"https\" data-shortfirstname=\"\" data-shortuserid=\"\" data-status=\"active\" data-spaceid=\"152960936\" data-test_id=\"\" data-userid=\"\" data-stickyheader=\"true\" data-headercollapse=\"\" data-uh-test=\"\" data-beacon=\"0\" ></div><!-- /meta --></div><script type=\"text/javascript\" charset=\"utf-8\"> YUI().use(\\'node\\',\\'event\\',\\'event-mouseenter\\',\\'substitute\\',\\'oop\\',\\'node-focusmanager\\',\\'node\\',\\'event\\',\\'substitute\\',\\'cookie\\',\\'event-resize\\',\\'node\\', \\'event\\', \\'querystring-stringify\\',\\'node\\',\\'event\\',\\'node\\',\\'event\\',\\'event-custom\\',\\'event-valuechange\\',\\'classnamemanager\\',\\'node\\', function(Y) {});</script><script charset=\\'utf-8\\' type=\\'text/javascript\\' src=\\'https://s.yimg.com/zz/combo?kx/ucs/common/js/140/setup-min.js&kx/ucs/sts/js/442/skip-min.js&kx/yucs/uh2/uh/295/js/timestamp_library-min.js&kx/ucs/menu_utils/js/164/menu_utils_v2-min.js&kx/yucs/uh2/uh/295/js/aria_toolbar-min.js&kx/ucs/username/js/43/user_menu-min.js&kx/ucs/help/js/41/help_menu-min.js&kx/ucs/utility_link/js/20/utility_menu-min.js&kx/yucs/uh2/uh/295/js/logo_debug-min.js&kx/yucs/uh3/disclaimer/388/js/disclaimer_seed-min.js&kx/ucs/common/js/131/jsonp-super-cached-min.js&kx/ucs/avatar/js/30/avatar-min.js&kx/yucs/uh2/mail-link/85/js/mailcount_v2-min.js&kx/ucs/search/js/226/search-min.js&kx/ucs/search/js/210/search_text_dir-min.js&kx/yucs/uh2/uh/295/js/activate_library-min.js&kx/yucs/uhc/meta/71/js/meta-min.js\\'></script> </div> \\n <script type=\"text/javascript\">\\n YUI().use(\\'node\\',function(Y){\\n Y.one(\\'#yuhead-sform-cont form\\').on(\\'submit\\',function(e){\\n e.preventDefault();\\n var yui_stock_search_dom=Y.one(\\'#yuhead-sform-searchfield\\'),\\n yui_stock_search_h = yui_stock_search_dom.get(\\'value\\');\\n yui_stock_search_h = Y.Lang.trim(yui_stock_search_h);\\n if(yui_stock_search_h===document.getElementById(\\'yuhead-sform-searchfield\\').getAttribute(\"data-sh\")){\\n yui_stock_search_dom.set(\\'value\\',\\'\\');\\n }\\n var newUrl=this.get(\\'action\\')+\\'?p=\\'+encodeURIComponent(Y.one(\\'#yuhead-sform-searchfield\\').get(\\'value\\'))+\\'&fr=\\'+Y.one(\\'#fr\\').get(\\'value\\');\\n window.top.location.href=newUrl;\\n })\\n })\\n </script>\\n <!--END:Universal Master Header--><!-- SpaceID=0 robot -->\\n<script lang=\"text/javascript\">\\n<!--\\nvar redirect = \"https://tw.rd.yahoo.com/referurl/stock/other\";\\nfunction stkClearMe(control)\\n{\\n control.value = \\'\\';\\n control.style.color = \"black\";\\n}\\nfunction stkRestore(control, str)\\n{\\n if (control.value == \\'\\') {control.value = str; control.style.color = \"#a8a8a8\";};\\n}\\nfunction stockmenu_submit (form)\\n{\\n if (form.stock_id.value == \\'\\u8f38\\u5165\\u53f0\\u80a1\\u4ee3\\u865f/\\u540d\\u7a31\\')\\n {\\n return false;\\n }\\n else\\n {\\n switch ( form.func.value ) {\\n case \\'G\\': form.action = redirect + \\'/get_quote/quote/*\\' + form.action; break;\\n case \\'L\\': form.action = redirect + \\'/get_quote/chart/*\\' + form.action; break;\\n case \\'I\\': form.action = redirect + \\'/get_quote/prices/*\\' + form.action; break;\\n case \\'N\\': form.action = redirect + \\'/get_quote/news/*\\' + form.action; break;\\n case \\'H\\': form.action = redirect + \\'/get_quote/health/*\\' + form.action; break;\\n case \\'F\\': form.action = redirect + \\'/get_quote/fundamental/*\\' + form.action; break;\\n case \\'C\\': form.action = redirect + \\'/get_quote/credit/*\\' + form.action; break;\\n case \\'T\\': form.action = redirect + \\'/get_quote/daily/*\\' + form.action; break;\\n case \\'W\\': form.action = redirect + \\'/get_quote/weekly/*\\' + form.action; break;\\n case \\'M\\': form.action = redirect + \\'/get_quote/monthly/*\\' + form.action; break;\\n }\\n form.submit();\\n }\\n}\\n//-->\\n</script>\\n<!--\\u4e3b\\u9078\\u55ae start-->\\n<div id=\"ystkglonav\" class=\"yui-ystkglonav\">\\n<table width=\"750\" border=\"0\" align=\"center\" cellpadding=\"0\" cellspacing=\"0\">\\n <tr>\\n <td height=\"36\" valign=\"bottom\" background=\"https://s.yimg.com/f/i/tw/stock/revamp/t_bg01.jpg\"><table width=\"730\" border=\"0\" align=\"center\" cellpadding=\"0\" cellspacing=\"0\">\\n <tr>\\n<td width=\"57\" valign=\"bottom\"><a href=\\'https://tw.rd.yahoo.com/referurl/stock/other/nav/home/*https://tw.stock.yahoo.com/\\' onMouseOut=\"MM_swapImgRestore()\" onMouseOver=\"MM_swapImage(\\'Image50\\',\\'\\',\\'https://s.yimg.com/f/i/tw/stock/yimg/t1_idx_v_new.png\\',1)\" hpp=\\'home\\'><img src=\"https://s.yimg.com/f/i/tw/stock/yimg/t1_idx_new.png\" name=\"Image50\" width=\"53\" height=\"24\" border=\"0\" title=\"\\u9996\\u9801\" alt=\"\\u9996\\u9801\"/></a></td>\\n<td width=\"89\" valign=\"bottom\"><a href=\\'https://tw.rd.yahoo.com/referurl/stock/other/nav/portfolio/*https://tw.stock.yahoo.com/pf/mypf\\' onMouseOut=\"MM_swapImgRestore()\" onMouseOver=\"MM_swapImage(\\'Image51\\',\\'\\',\\'https://s.yimg.com/f/i/tw/stock/yimg/t2_ivst_v.png\\',1)\" hpp=\\'portfolio\\'><img src=\"https://s.yimg.com/f/i/tw/stock/yimg/t2_ivst.png\" name=\"Image51\" width=\"85\" height=\"24\" border=\"0\" title=\"\\u6295\\u8cc7\\u7d44\\u5408\" alt=\"\\u6295\\u8cc7\\u7d44\\u5408\"/></a></td>\\n<td width=\"89\" valign=\"bottom\"><a href=\\'https://tw.rd.yahoo.com/referurl/stock/other/nav/industry/*https://tw.stock.yahoo.com/h/getclass.php\\' hpp=\\'industry\\'><img src=\"https://s.yimg.com/f/i/tw/stock/yimg/t3_tdy_o.png\" name=\"Image52\" width=\"85\" height=\"31\" border=\"0\" title=\"\\u7576\\u65e5\\u884c\\u60c5\" alt=\"\\u7576\\u65e5\\u884c\\u60c5\"></a></td>\\n<td width=\"57\" valign=\"bottom\"><a href=\\'https://tw.rd.yahoo.com/referurl/stock/other/nav/tse/*https://tw.stock.yahoo.com/s/tse.php\\' onMouseOut=\"MM_swapImgRestore()\" onMouseOver=\"MM_swapImage(\\'Image53\\',\\'\\',\\'https://s.yimg.com/f/i/tw/stock/yimg/t4_big_v.png\\',1)\" hpp=\\'tse\\'><img src=\"https://s.yimg.com/f/i/tw/stock/yimg/t4_big.png\" name=\"Image53\" width=\"53\" height=\"24\" border=\"0\" title=\"\\u5927\\u76e4\" alt=\"\\u5927\\u76e4\"/></a></td>\\n<td width=\"57\" valign=\"bottom\"><a href=\\'https://tw.rd.yahoo.com/referurl/stock/other/nav/indice/*https://tw.stock.yahoo.com/s/nine.php\\' onMouseOut=\"MM_swapImgRestore()\" onMouseOver=\"MM_swapImage(\\'Image54\\',\\'\\',\\'https://s.yimg.com/f/i/tw/stock/yimg/t5_cls_v.png\\',1)\" hpp=\\'indice\\'><img src=\"https://s.yimg.com/f/i/tw/stock/yimg/t5_cls.png\" name=\"Image54\" width=\"53\" height=\"24\" border=\"0\" title=\"\\u985e\\u80a1\" alt=\"\\u985e\\u80a1\"/></a></td>\\n<td width=\"57\" valign=\"bottom\"><a href=\\'https://tw.rd.yahoo.com/referurl/stock/other/nav/futures/*https://tw.stock.yahoo.com/future/\\' onMouseOut=\"MM_swapImgRestore()\" onMouseOver=\"MM_swapImage(\\'Image55\\',\\'\\',\\'https://s.yimg.com/f/i/tw/stock/yimg/t6_ftr_v_future.png\\',1)\" hpp=\\'futures\\'><img src=\"https://s.yimg.com/f/i/tw/stock/yimg/t6_ftr_future.png\" name=\"Image55\" width=\"53\" height=\"24\" border=\"0\" title=\"\\u671f\\u6b0a\" alt=\"\\u671f\\u6b0a\"/></a></td>\\n<td width=\"89\" valign=\"bottom\"><a href=\\'https://tw.rd.yahoo.com/referurl/stock/other/nav/hkcn/*https://tw.stock.yahoo.com/hkcn/\\' onMouseOut=\"MM_swapImgRestore()\" onMouseOver=\"MM_swapImage(\\'Image56\\',\\'\\',\\'https://s.yimg.com/f/i/tw/stock/yimg/t7_hk_v.png\\',1)\" hpp=\\'hkcn\\'><img src=\"https://s.yimg.com/f/i/tw/stock/yimg/t7_hk.png\" name=\"Image56\" width=\"85\" height=\"24\" border=\"0\" title=\"\\u6e2f\\u6eec\\u6df1\\u80a1\" alt=\"\\u6e2f\\u6eec\\u6df1\\u80a1\"/></a></td>\\n<td width=\"57\" valign=\"bottom\"><a href=\\'https://tw.rd.yahoo.com/referurl/stock/other/nav/us/*https://tw.stock.yahoo.com/us/\\' onMouseOut=\"MM_swapImgRestore()\" onMouseOver=\"MM_swapImage(\\'Image57\\',\\'\\',\\'https://s.yimg.com/f/i/tw/stock/yimg/t8_us_v.png\\',1)\" hpp=\\'us\\'><img src=\"https://s.yimg.com/f/i/tw/stock/yimg/t8_us.png\" name=\"Image57\" width=\"53\" height=\"24\" border=\"0\" title=\"\\u7f8e\\u80a1\" alt=\"\\u7f8e\\u80a1\"/></a></td>\\n<td width=\"57\" valign=\"bottom\"><a href=\\'https://tw.rd.yahoo.com/referurl/stock/other/nav/news/*https://tw.stock.yahoo.com/news_index.html\\' onMouseOut=\"MM_swapImgRestore()\" onMouseOver=\"MM_swapImage(\\'Image58\\',\\'\\',\\'https://s.yimg.com/f/i/tw/stock/yimg/t9_nws_v.png\\',1)\" hpp=\\'news\\'><img src=\"https://s.yimg.com/f/i/tw/stock/yimg/t9_nws.png\" name=\"Image58\" width=\"53\" height=\"24\" border=\"0\" title=\"\\u65b0\\u805e\" alt=\"\\u65b0\\u805e\"/></a></td>\\n<td width=\"77\" valign=\"bottom\"><a href=\\'https://tw.rd.yahoo.com/referurl/stock/other/SIG=125gf33ql/**https://tw.screener.finance.yahoo.net/screener/basic.html\\' onMouseOut=\"MM_swapImgRestore()\" onMouseOver=\"MM_swapImage(\\'Image59\\',\\'\\',\\'https://s.yimg.com/f/i/tw/stock/yimg/t10a_fd_v_new.png\\',1)\" hpp=\\'screener\\'><img src=\"https://s.yimg.com/f/i/tw/stock/yimg/t10a_fd_new.png\" name=\"Image59\" width=\"73\" height=\"24\" border=\"0\" title=\"Y\\u9078\\u80a1\" alt=\"Y\\u9078\\u80a1\"/></a></td>\\n </tr>\\n </table></td>\\n </tr>\\n <tr>\\n <td height=\"8\" background=\"https://s.yimg.com/f/i/tw/stock/revamp/bg02.gif\"></td>\\n </tr>\\n <tr>\\n <td height=\"36\" bgcolor=\"#4f627b\"><table width=\"740\" border=\"0\" align=\"center\" cellpadding=\"0\" cellspacing=\"2\">\\n <tr><form name=\"menu\" action=\"https://tw.stock.yahoo.com/h/stockmenu.php\" onsubmit=\"return stockmenu_submit(this);\">\\n <td valign=\"top\"><a href=\"javascript:open_win(\\'/h/kimosel.php\\',\\'menu\\',\\'stock_id\\',\\'stock_name\\')\" onMouseOut=\"MM_swapImgRestore()\" onMouseOver=\"MM_swapImage(\\'button01\\',\\'\\',\\'https://s.yimg.com/f/i/tw/stock/revamp/button01_f2.gif\\',1);\" class=\"yui-tw-stock-block yui-nav-but\"><img name=\"button01\" src=\"https://s.yimg.com/f/i/tw/stock/revamp/button01.gif\" width=\"95\" height=\"21\" border=\"0\" alt=\"\"></a></td>\\n <td>\\n <input type=\"hidden\" name=\"stock_name\" value>\\n <input type=\"hidden\" name=\"ei\" value=\"cp950\">\\n <input value=\"\\u8f38\\u5165\\u53f0\\u80a1\\u4ee3\\u865f/\\u540d\\u7a31\" onfocus=\"javascript:stkClearMe(this);\" onblur=\"javascript:stkRestore(this,\\'\\u8f38\\u5165\\u53f0\\u80a1\\u4ee3\\u865f/\\u540d\\u7a31\\');\" id=\"stock_id\" name=\"stock_id\" type=\"text\" size=\"15\" />\\n<script language=\"javascript\">\\nif(document.getElementById(\"stock_id\").value == \"\\u8f38\\u5165\\u53f0\\u80a1\\u4ee3\\u865f/\\u540d\\u7a31\")\\n{\\n document.getElementById(\"stock_id\").style.color = \"#a8a8a8\";\\n}\\n </script>\\n </td>\\n <td><label>\\n <select name=\"func\" onChange=\"return stockmenu_submit(this.form);\">\\n <option VALUE=\"G\" SELECTED>\\uff0d\\uff0d\\u7576\\u65e5\\u500b\\u80a1\\u80a1\\u50f9\\uff0d\\uff0d</option>\\n <option VALUE=\"L\">\\uff0d\\uff0d\\u7576\\u65e5\\u500b\\u80a1\\u8d70\\u52e2\\uff0d\\uff0d</option>\\n <option VALUE=\"I\">\\uff0d\\uff0d\\u500b\\u80a1\\u6210\\u4ea4\\u660e\\u7d30\\uff0d\\uff0d</option>\\n <option VALUE=\"N\">\\uff0d\\uff0d\\u500b\\u80a1\\u65b0\\u805e\\uff0d\\uff0d</option>\\n <option VALUE=\"H\">\\uff0d\\uff0d\\u500b\\u80a1\\u5065\\u8a3a\\uff0d\\uff0d</option>\\n <option VALUE=\"F\">\\uff0d\\uff0d\\u516c\\u53f8\\u57fa\\u672c\\u8cc7\\u6599\\uff0d\\uff0d</option>\\n <option VALUE=\"C\">\\uff0d\\uff0d\\u500b\\u80a1\\u7c4c\\u78bc\\u5206\\u6790\\uff0d\\uff0d</option>\\n <option VALUE=\"T\">\\uff0d\\uff0d\\u6b77\\u53f2\\u80a1\\u50f9\\uff2b\\u7dda\\u5716\\uff0d</option>\\n </select>\\n </label></td>\\n <td><label><input style=\"width:38px;height:23px;padding-bottom:3px;*padding-top:3px;padding-left:3px;text-align:left;\" type=\"submit\" name=\"xSubmit\" value=\"\\u67e5\\u8a62\"/>\\n </label></td>\\n<!-- type - 3, ref: Array\\n(\\n    [hh] => 21\\n    [mm] => 30\\n)\\n -->\\n <td width=\"270\" class=\"ssbody\"><div align=\"right\"><span class=\"ssbodyw\">2017/10/17 13:52 \\u8ddd\\u96e2\\u7f8e\\u80a1\\u958b\\u76e4\\u9084\\u67097\\u5c0f\\u664238\\u5206\\u9418</span></div></td>\\n <td>\\n <a class=\"refresh\" href=\\'https://tw.rd.yahoo.com/referurl/stock/get_quote/refresh/*https://tw.stock.yahoo.com/q/q?s=2330\\' >\\u66f4\\u65b0</a>\\n </td>\\n </div></td> </form></tr>\\n </table>\\n <label></label></td>\\n </tr>\\n <tr>\\n <td height=\"4\" bgcolor=\"#FFFFFF\"></td>\\n </tr>\\n</table>\\n</div>\\n<script language=\"javascript\">\\nif(document.getElementById(\"stock_id\").value == \"\\u8acb\\u8f38\\u5165\\u80a1\\u865f\")\\n{\\n document.getElementById(\"stock_id\").style.color = \"#a8a8a8\";\\n}\\n</script> \\n<!--\\u4e3b\\u9078\\u55ae end--> \\n        <script language=\"javascript\">\\n\\t\\t<!-- \\n                document.menu.stock_id.value=\"2330\";\\n\\n\\t\\t//-->\\n\\t</script>\\n\\t\\t\\t\\t\\t \\n<br>\\n    <table width=750 border=0 cellpadding=1 cellspacing=0>\\n        <tr bgcolor=#FFF0C1>\\n\\t<td width=540 align=left>\\n\\t    &nbsp; \\n\\t</td> \\n\\t<td width=160 align=right><font color=#3333FF class=tt>\\u3000\\u8cc7\\u6599\\u65e5\\u671f: 106/10/17</font></td>\\n\\t</tr>\\n    </table>\\n<table border=0 cellSpacing=0 cellpadding=\"0\" width=\"750\">\\n  <tr>\\n    <td>\\n      <table border=2 width=\"750\">\\n        <tr bgcolor=#fff0c1>\\n          <th align=center >\\u80a1\\u7968<br>\\u4ee3\\u865f</th>\\n          <th align=center width=\"55\">\\u6642\\u9593</th>\\n          <th align=center width=\"55\">\\u6210\\u4ea4</th>\\n\\n          <th align=center width=\"55\">\\u8cb7\\u9032</th>\\n          <th align=center width=\"55\">\\u8ce3\\u51fa</th>\\n          <th align=center width=\"55\">\\u6f32\\u8dcc</th>\\n          <th align=center width=\"55\">\\u5f35\\u6578</th>\\n          <th align=center width=\"55\">\\u6628\\u6536</th>\\n          <th align=center width=\"55\">\\u958b\\u76e4</th>\\n\\n          <th align=center width=\"55\">\\u6700\\u9ad8</th>\\n          <th align=center width=\"55\">\\u6700\\u4f4e</th>\\n          <th align=center>\\u500b\\u80a1\\u8cc7\\u6599</th>\\n        </tr>\\n        <tr>\\n          <td align=center width=105><a\\n\\t  href=\"/q/bc?s=2330\">2330\\u53f0\\u7a4d\\u96fb</a><br><a href=\"/pf/pfsel?stocklist=2330;\"><font size=-1>\\u52a0\\u5230\\u6295\\u8cc7\\u7d44\\u5408</font><br></a></td>\\n                <td align=\"center\" bgcolor=\"#FFFfff\" nowrap>13:30</td>\\n                <td align=\"center\" bgcolor=\"#FFFfff\" nowrap><b>235.5</b></td>\\n                <td align=\"center\" bgcolor=\"#FFFfff\" nowrap>235.5</td>\\n                <td align=\"center\" bgcolor=\"#FFFfff\" nowrap>236.0</td>\\n                <td align=\"center\" bgcolor=\"#FFFfff\" nowrap><font color=#009900>\\u25bd2.5\\n                <td align=\"center\" bgcolor=\"#FFFfff\" nowrap>17,584</td>\\n                <td align=\"center\" bgcolor=\"#FFFfff\" nowrap>238.0</td>\\n                <td align=\"center\" bgcolor=\"#FFFfff\" nowrap>238.0</td>\\n                <td align=\"center\" bgcolor=\"#FFFfff\" nowrap>238.0</td>\\n                <td align=\"center\" bgcolor=\"#FFFfff\" nowrap>235.0</td>\\n          <td align=center width=137 class=\"tt\">\\n    <a href=\"/q/ts?s=2330\">\\u6210\\u4ea4\\u660e\\u7d30</a><br><a href=\"/q/ta?s=2330\">\\u6280\\u8853</a>\\u3000<a href=\\'/q/h?s=2330\\'>\\u65b0\\u805e</a><a href=\\'/d/s/company_2330.html\\'><br>\\u57fa\\u672c</a>\\u3000<a href=\\'/d/s/credit_2330.html\\'>\\u7c4c\\u78bc</a><br><a target=\\'_blank\\' style=\\'color:red\\' href=\\'https://tw.rd.yahoo.com/referurl/stock/other/SIG=125v47s73/**https://tw.screener.finance.yahoo.net/screener/check.html?symid=2330\\'>\\u500b\\u80a1\\u5065\\u8a3a</a></font></td>        </tr>\\n      </table>\\n    </td>\\n  </tr>\\n</table>\\n<br>\\n<div class=\"addendum\"></span>\\n <div class=\"news\">\\n <div class=\"hd\">\\n <label class=\"stock\">\\u500b\\u80a1\\u65b0\\u805e\\u8207\\u7814\\u7a76\\u5831\\u544a</label>\\n <span class=\"more\"><a href=\"https://tw.stock.yahoo.com/q/h?s=2330\">&raquo; \\u66f4\\u591a</a></span>\\n </div>\\n <div class=\"bd quote\"> \\n <ul>\\n <li>\\n <a href=\"/news_content/url/d/a/20171017/%E5%A4%96%E8%B3%87%E8%A7%80%E9%BB%9E-%E5%8F%B0%E7%A9%8D%E9%9B%BB%E6%B3%95%E8%AA%AA%E6%9C%83%E5%89%8D-%E6%AD%90%E7%B3%BB%E5%8F%8A%E7%BE%8E%E7%B3%BB%E5%A4%96%E8%B3%87%E5%90%8C%E6%AD%A5%E8%AA%BF%E9%AB%98%E7%9B%AE%E6%A8%99%E5%83%B9%E9%81%94275%E5%85%83269%E5%85%83-040739581.html\">\\u5916\\u8cc7\\u89c0\\u9ede\\uff1a\\u53f0\\u7a4d\\u96fb\\u6cd5\\u8aaa\\u6703\\u524d\\uff0c\\u6b50\\u7cfb\\u53ca\\u7f8e\\u7cfb\\u5916\\u8cc7\\u540c\\u6b65\\u8abf\\u9ad8\\u76ee\\u6a19\\u50f9\\u9054275\\u5143269\\u5143</a>\\n <span class=\"meta\">(\\u8ca1\\u8a0a\\u5feb\\u5831 2017/10/17 12:07)</span>\\n </li> <li>\\n <a href=\"/news_content/url/d/a/20171017/%E5%8D%8A%E5%B0%8E%E9%AB%94%E8%A9%95%E6%AF%94-%E5%A4%96%E8%B3%87%E8%AA%AA%E9%80%992%E6%AA%94%E6%9C%80%E5%84%AA-023937513.html\">\\u534a\\u5c0e\\u9ad4\\u8a55\\u6bd4 \\u5916\\u8cc7\\u8aaa\\u90192\\u6a94\\u6700\\u512a</a>\\n <span class=\"meta\">(\\u4e2d\\u592e\\u793e 2017/10/17 10:39)</span>\\n </li> <li>\\n <a href=\"/news_content/url/d/a/20171017/%E5%A4%96%E8%B3%87%E8%A7%80%E9%BB%9E-%E4%BA%9E%E7%B3%BB%E5%A4%96%E8%B3%87%E9%A6%96%E8%A9%95%E5%89%B5%E6%84%8F-3443-%E5%96%8A%E8%B2%B7-%E7%9B%AE%E6%A8%99%E5%83%B9%E4%B8%8A%E7%9C%8B350%E5%85%83-014253709.html\">\\u5916\\u8cc7\\u89c0\\u9ede\\uff1a\\u4e9e\\u7cfb\\u5916\\u8cc7\\u9996\\u8a55\\u5275\\u610f(3443)\\u558a\\u8cb7\\uff0c\\u76ee\\u6a19\\u50f9\\u4e0a\\u770b350\\u5143</a>\\n <span class=\"meta\">(\\u8ca1\\u8a0a\\u5feb\\u5831 2017/10/17 09:42)</span>\\n </li> <li>\\n <a href=\"/news_content/url/d/a/20171017/nvidia%E9%80%A3%E4%BA%94%E5%A4%A9%E5%89%B5%E6%AD%B7%E5%8F%B2%E6%96%B0%E9%AB%98-%E5%8A%A0%E5%AF%86%E8%B2%A8%E5%B9%A3%E5%A4%AF-gpu%E6%96%99%E5%8B%9D%E9%A0%90%E6%9C%9F-003355937.html\">NVIDIA\\u9023\\u4e94\\u5929\\u5275\\u6b77\\u53f2\\u65b0\\u9ad8\\uff01\\u52a0\\u5bc6\\u8ca8\\u5e63\\u592f\\u3001GPU\\u6599\\u52dd\\u9810\\u671f</a>\\n <span class=\"meta\">(Moneydj\\u7406\\u8ca1\\u7db2 2017/10/17 08:33)</span>\\n </li> </ul>\\n </div>\\n <div class=\"ft\">\\n </div>\\n </div>\\n <div class=\"ad\">\\n <div class=\"hd\">\\u5ee3\\u544a</div>\\n <div class=\"bd\">\\n<!-- SpaceID=0 robot -->\\n </div>\\n </div>\\n</div> <p>\\n<table width=\"750\" border=\"0\" cellpadding=\"0\" cellspacing=\"0\">\\n<tr><td>\\n<!--START:YSM CM MODULE-->\\n<link href=\\'https://s.yimg.com/ud/others/stock/ysm_gemini_q_v1.css\\' rel=\\'stylesheet\\' type=\\'text/css\\'>\\n<link href=\\'https://s.yimg.com/f/i/tw/ysm/hybrid/hybrid_stock02_big5.css\\' rel=\\'stylesheet\\' type=\\'text/css\\'>\\n<div style=\"display: block;\" id=\"ysmcm\">\\n    <div class=\"cont\">\\n        <table class=\"kw\" border=\"0\" cellpadding=\"0\" cellspacing=\"0\" width=\"100%\">\\n            <tbody>\\n                <tr>\\n                    <td width=\"100\">\\u76f8\\u95dc\\u8d0a\\u52a9\\u7db2\\u7ad9</td>\\n                    <td align=\"right\">\\n<div id=\"ysmcmkw\">\\u71b1\\u9580\\u95dc\\u9375\\u5b57\\uff1a<a href=\"https://tw.linkspot.search.yahoo.com/sales/ysmlist.php?Partner=yahoo_tw_stock_xml_park&p=%E6%8A%95%E8%B3%87\">\\u6295\\u8cc7</a><span class=\"kwsp\">\\u2223</span><a href=\"https://tw.linkspot.search.yahoo.com/sales/ysmlist.php?Partner=yahoo_tw_stock_xml_park&p=%E6%8A%95%E8%B3%87%E9%A1%A7%E5%95%8F\">\\u6295\\u8cc7\\u9867\\u554f</a><span class=\"kwsp\">\\u2223</span><a href=\"https://tw.linkspot.search.yahoo.com/sales/ysmlist.php?Partner=yahoo_tw_stock_xml_park&p=%E8%82%A1%E7%A5%A8\">\\u80a1\\u7968</a><span class=\"kwsp\">\\u2223</span><a href=\"https://tw.linkspot.search.yahoo.com/sales/ysmlist.php?Partner=yahoo_tw_stock_xml_park&p=%E6%88%BF%E5%9C%B0%E7%94%A2%E6%8A%95%E8%B3%87\">\\u623f\\u5730\\u7522\\u6295\\u8cc7</a><span class=\"kwsp\">\\u2223</span></div>                    </td>\\n                </tr>\\n            </tbody>\\n        </table>\\n    </div>\\n</div>\\n<!--END:YSM CM MODULE-->\\n</td></tr></table>\\n</p><table width=\"750\" border=\"0\" align=\"center\" cellpadding=\"0\" cellspacing=\"0\">\\n <tr>\\n <td height=\"90\" valign=\"bottom\">\\n <DIV id=yhtw_mastfoot>\\n <DIV class=ln>\\n <A href=\"https://tw.rd.yahoo.com/referurl/central/f/tos/*https://tw.yahoo.com/info/utos.html\">\\u670d\\u52d9\\u689d\\u6b3e</A> \\n <A href=\"https://tw.rd.yahoo.com/referurl/central/f/pri/*https://info.yahoo.com/privacy/tw/yahoo/\">\\u96b1\\u79c1\\u6b0a</A>\\n </DIV>\\n<DIV class=other>\\u8cc7\\u6599\\u4f86\\u6e90<A \\nhref=\"http://www.twse.com.tw/\">\\u53f0\\u7063\\u8b49\\u5238\\u4ea4\\u6613\\u6240(TWSE)</A>\\uff0c<A \\nhref=\"http://mops.twse.com.tw/mops/web/index\">\\u516c\\u958b\\u8cc7\\u8a0a\\u89c0\\u6e2c\\u7ad9</A>\\u53ca<A \\nhref=\"http://www.otc.org.tw/\">\\u6ac3\\u6aaf\\u8cb7\\u8ce3\\u4e2d\\u5fc3(OTC)</A>\\u3002\\u672c\\u8cc7\\u6599\\u50c5\\u4f9b\\u53c3\\u8003\\uff0c\\u6210\\u4ea4\\u503c\\u53ca\\u6210\\u4ea4\\u91cf\\u4e0d\\u542b\\u96f6\\u80a1\\u53ca\\u5de8\\u984d\\u4ea4\\u6613\\uff0c\\u4f7f\\u7528\\u8005\\u4f9d\\u672c\\u8cc7\\u6599\\u4ea4\\u6613\\u767c\\u751f\\u4ea4\\u6613\\u640d\\u5931\\u9700\\u81ea\\u884c\\u8ca0\\u8cac\\uff0cYahoo!\\u5947\\u6469\\u5c0d\\u8cc7\\u6599\\u5167\\u5bb9\\u932f\\u8aa4\\u3001\\u66f4\\u65b0\\u5ef6\\u8aa4\\u6216\\u50b3\\u8f38\\u4e2d\\u65b7\\u4e0d\\u8ca0\\u4efb\\u4f55\\u8cac\\u4efb\\u3002(\\u8acb\\u770b \\nYahoo!\\u5947\\u6469\\u4e4b<A \\nhref=\"https://tw.yahoo.com/info/disclaimers.html\">\\u514d\\u8cac\\u689d\\u6b3e</A>)</DIV>\\n</DIV></td>\\n </tr>\\n</table> \\n</center>\\n\\n</body><script src=\"https://s.yimg.com/f/i/tw/mb/universal_header/uh_tw_v11.js\" type=\"text/javascript\"></script> \\n<!-- Begin comScore Tag --> \\n<script>\\n var _comscore = _comscore || [];\\n _comscore.push({\\n c1: \"2\",\\n c2: \"7241469\",\\n c5: \"152958415\",\\n c7: \"https%3A%2F%2Ftw.stock.yahoo.com%252fq%252fq%253fs%253d2330\"\\n });\\n (function() {\\n var s = document.createElement(\"script\"), el = document.getElementsByTagName(\"script\")[0]; s.async = true;\\n s.src = \"https://s.yimg.com/lq\" + \"/lib/3pm/cs_0.2.js\";\\n el.parentNode.insertBefore(s, el);\\n })();\\n YUI().use(\\'node\\',function(Y){\\n if(Y.one(\\'#yuhead-sform-searchfield\\')){\\n Y.one(\\'#yuhead-sform-searchfield\\').set(\\'value\\',document.getElementById(\\'yuhead-sform-searchfield\\').getAttribute(\"data-sh\"));\\n }\\n })\\n</script>\\n<noscript><img src=\"https://sb.scorecardresearch.com/p?c1=2&c2=7241469&c7=https%3A%2F%2Ftw.stock.yahoo.com%252fq%252fq%253fs%253d2330&c5=152958415&cv=2.0&cj=1\" width=\"1\" height=\"1\" alt=\"\"/></noscript>\\n<!-- End comScore Tag -->\\n<!-- Gemini Ads Beacon -->\\n<script type=\"text/javascript\">\\n</script>\\n</html>\\n\\n<!-- w230.finance.tw1.yahoo.com Tue Oct 17 05:52:40 UTC 2017 -->\\n'"
      ]
     },
     "execution_count": 5,
     "metadata": {},
     "output_type": "execute_result"
    }
   ],
   "source": [
    "res.text"
   ]
  },
  {
   "cell_type": "code",
   "execution_count": 6,
   "metadata": {
    "slideshow": {
     "slide_type": "slide"
    }
   },
   "outputs": [
    {
     "data": {
      "text/plain": [
       "200"
      ]
     },
     "execution_count": 6,
     "metadata": {},
     "output_type": "execute_result"
    }
   ],
   "source": [
    "import requests\n",
    "payload = {'s':'2330'}\n",
    "res = requests.get(\"https://tw.stock.yahoo.com/q/q\", params=payload)\n",
    "res.status_code"
   ]
  },
  {
   "cell_type": "code",
   "execution_count": 22,
   "metadata": {
    "slideshow": {
     "slide_type": "slide"
    }
   },
   "outputs": [
    {
     "data": {
      "text/plain": [
       "{'Content-Length': '9379', 'Via': 'http/1.1 r106.finance.tw1.yahoo.com (ApacheTrafficServer [c sSf ]), https/1.1 r234.edge.media.tp2.yahoo.com (ApacheTrafficServer [c sSf ])', 'Content-Encoding': 'gzip', 'Public-Key-Pins-Report-Only': 'pin-sha256=\"2fRAUXyxl4A1/XHrKNBmc8bTkzA7y4FB/GLJuNAzCqY=\"; pin-sha256=\"2oALgLKofTmeZvoZ1y/fSZg7R9jPMix8eVA6DH4o/q8=\"; pin-sha256=\"I/Lt/z7ekCWanjD0Cvj5EqXls2lOaThEA0H2Bg4BT/o=\"; pin-sha256=\"JbQbUG5JMJUoI6brnx0x3vZF6jilxsapbXGVfjhN8Fg=\"; pin-sha256=\"SVqWumuteCQHvVIaALrOZXuzVVVeS7f4FGxxu6V+es4=\"; pin-sha256=\"UZJDjsNp1+4M5x9cbbdflB779y5YRBcV6Z6rBMLIrO4=\"; pin-sha256=\"Wd8xe/qfTwq3ylFNd3IpaqLHZbh2ZNCLluVzmeNkcpw=\"; pin-sha256=\"WoiWRyIOVNa9ihaBciRSC7XHjliYS9VwUGOIud4PB18=\"; pin-sha256=\"cAajgxHlj7GTSEIzIYIQxmEloOSoJq7VOaxWHfv72QM=\"; pin-sha256=\"dolnbtzEBnELx/9lOEQ22e6OZO/QNb6VSSX2XHA3E7A=\"; pin-sha256=\"i7WTqTvh0OioIruIfFR4kMPnBqrS2rdiVPl/s2uC/CY=\"; pin-sha256=\"lnsM2T/O9/J84sJFdnrpsFp3awZJ+ZZbYpCWhGloaHI=\"; pin-sha256=\"r/mIkG3eEpVdm+u/ko/cwxzOMo1bk4TyHIlByibiA5E=\"; pin-sha256=\"uUwZgwDOxcBXrQcntwu+kYFpkiVkOaezL0WYEZ3anJc=\"; includeSubDomains; max-age=2592000; report-uri=\"http://csp.yahoo.com/beacon/csp?src=yahoocom-hpkp-report-only\"', 'Age': '0', 'Strict-Transport-Security': 'max-age=31536000', 'Vary': 'Accept-Encoding', 'Server': 'ATS', 'Connection': 'close', 'Date': 'Tue, 17 Oct 2017 08:45:40 GMT', 'P3P': 'policyref=\"https://policies.yahoo.com/w3c/p3p.xml\", CP=\"CAO DSP COR CUR ADM DEV TAI PSA PSD IVAi IVDi CONi TELo OTPi OUR DELi SAMi OTRi UNRi PUBi IND PHY ONL UNI PUR FIN COM NAV INT DEM CNT STA POL HEA PRE LOC GOV\"', 'Content-Type': 'text/html; charset=Big5', 'x-frame-options': 'SAMEORIGIN'}"
      ]
     },
     "execution_count": 22,
     "metadata": {},
     "output_type": "execute_result"
    }
   ],
   "source": [
    "res.headers"
   ]
  },
  {
   "cell_type": "code",
   "execution_count": 23,
   "metadata": {
    "slideshow": {
     "slide_type": "slide"
    }
   },
   "outputs": [
    {
     "name": "stdout",
     "output_type": "stream",
     "text": [
      "<class 'requests.structures.CaseInsensitiveDict'>\n"
     ]
    }
   ],
   "source": [
    "print type(res.headers)"
   ]
  },
  {
   "cell_type": "code",
   "execution_count": null,
   "metadata": {
    "collapsed": true,
    "slideshow": {
     "slide_type": "slide"
    }
   },
   "outputs": [],
   "source": []
  }
 ],
 "metadata": {
  "kernelspec": {
   "display_name": "Python 2",
   "language": "python",
   "name": "python2"
  },
  "language_info": {
   "codemirror_mode": {
    "name": "ipython",
    "version": 2
   },
   "file_extension": ".py",
   "mimetype": "text/x-python",
   "name": "python",
   "nbconvert_exporter": "python",
   "pygments_lexer": "ipython2",
   "version": "2.7.13"
  }
 },
 "nbformat": 4,
 "nbformat_minor": 2
}
